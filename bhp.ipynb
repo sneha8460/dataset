{
 "cells": [
  {
   "cell_type": "markdown",
   "id": "7d133aec",
   "metadata": {},
   "source": [
    "# Import the libraries"
   ]
  },
  {
   "cell_type": "markdown",
   "id": "c98ec09b",
   "metadata": {},
   "source": [
    "# Load the BHP dataset "
   ]
  },
  {
   "cell_type": "markdown",
   "id": "c8f35e7e",
   "metadata": {},
   "source": [
    "# understand each column"
   ]
  },
  {
   "cell_type": "markdown",
   "id": "3072dd89",
   "metadata": {},
   "source": [
    "# get the information of columns and note the observation"
   ]
  },
  {
   "cell_type": "markdown",
   "id": "08b9bdea",
   "metadata": {},
   "source": [
    "# understand the data inside the dataframe using head()"
   ]
  },
  {
   "cell_type": "markdown",
   "id": "e7418d75",
   "metadata": {},
   "source": [
    "# Data cleaning\n",
    "1. check and remove duplicates\n",
    "2. handle the missing values\n",
    "3. check and correct the invalid dtype\n",
    "4. remove the columns which are not important for  analysis\n",
    "\n"
   ]
  },
  {
   "cell_type": "markdown",
   "id": "93da0607",
   "metadata": {},
   "source": [
    "# Data Transformation\n",
    "\n",
    "1. replace the 'Ready To Move' by 1 in availability column \n"
   ]
  },
  {
   "cell_type": "markdown",
   "id": "d8abecd6",
   "metadata": {},
   "source": [
    "2. keep only the numbers without name_of_units in total_sqft column\n",
    "\n",
    "    (to convert all units to the smallest unit(sqft) use the below values)\n",
    "\n",
    "    note: (if keys are found in the data then remove the word and multiply the number with given dict value)\n",
    "             and At last reinitialize the column by coverting it to int\n"
   ]
  },
  {
   "cell_type": "markdown",
   "id": "1eb8f933",
   "metadata": {},
   "source": [
    "# Pseudocode\n",
    "\n",
    "\n",
    "    FUNCTION f1(d):\n",
    "        val = d['total_sqft']\n",
    "        res = val\n",
    "    \n",
    "        CHECK FOR '-' in val:\n",
    "            Split by '-'\n",
    "            Take average of two numbers\n",
    "            res = average\n",
    "    \n",
    "        ELSE:\n",
    "            ITERATE through each unit in conv_sqft:\n",
    "                CHECK FOR unit in val:\n",
    "                    Remove unit from val\n",
    "                    Convert to float and multiply by conversion factor\n",
    "                    res = result\n",
    "    \n",
    "        RETURN res as float\n",
    "    "
   ]
  },
  {
   "cell_type": "code",
   "execution_count": 51,
   "id": "804faae7",
   "metadata": {},
   "outputs": [],
   "source": [
    "conv_sqft = {\n",
    "                'Sq. Meter': 10.7639,\n",
    "                'Sq. Yards': 9,\n",
    "                'Acres': 43560,\n",
    "                'Cents': 435.6,\n",
    "                'Guntha': 1089,\n",
    "                'Grounds': 2400,\n",
    "                'Perch':272.25,\n",
    "                'Sq. Feet': 1  # already in desired unit\n",
    "                \n",
    "             }"
   ]
  },
  {
   "cell_type": "markdown",
   "id": "5ce13fa5",
   "metadata": {},
   "source": [
    "3. change the order of the columns (optional)"
   ]
  },
  {
   "cell_type": "markdown",
   "id": "17e70c33",
   "metadata": {},
   "source": [
    "4. get the top 5 rows"
   ]
  },
  {
   "cell_type": "markdown",
   "id": "69c7aecc",
   "metadata": {},
   "source": [
    "#  BHP Dataset - Questions"
   ]
  },
  {
   "cell_type": "markdown",
   "id": "bc39dd60",
   "metadata": {},
   "source": [
    "1. Number of houses in the dataset\n",
    "2. Number of houses that are currently unavailable\n",
    "3. Number of houses that are currently available with 2BHK\n",
    "4. Number of houses and highest price in Electronic City\n",
    "5. Number of 2BHK houses with at least 2 bathrooms and a balcony\n",
    "6. Top five locations with the most houses for sale\n",
    "7. Top five locations with the most houses currently available\n",
    "8. Unique values in the area type column\n",
    "9. no_of locations in the dataset\n",
    "10. get the Average price , Highest price and lowest price in each location\n",
    "11. Details of the top 2 houses with the highest price\n",
    "12. Highest and Average sqft among all houses\n",
    "13. Location with the most houses for sale\n",
    "14. Location with the most houses currently available for sale"
   ]
  },
  {
   "cell_type": "markdown",
   "id": "dbaf9f6a",
   "metadata": {},
   "source": [
    "1. Average price for each area type\n",
    "2. get the available and not available houses count in each area type\n",
    "3. proprtion of each area type\n",
    "4. distribution of prices\n",
    "5. detect the outliers in prices\n",
    "6. get the relation b/w sq.feet and prices\n",
    "7. get the corr of columns using heatmap\n",
    "8. get the trend of sq.feet and prices"
   ]
  }
 ],
 "metadata": {
  "kernelspec": {
   "display_name": "Python 3",
   "language": "python",
   "name": "python3"
  },
  "language_info": {
   "codemirror_mode": {
    "name": "ipython",
    "version": 3
   },
   "file_extension": ".py",
   "mimetype": "text/x-python",
   "name": "python",
   "nbconvert_exporter": "python",
   "pygments_lexer": "ipython3",
   "version": "3.11.4"
  }
 },
 "nbformat": 4,
 "nbformat_minor": 5
}
