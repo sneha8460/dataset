{
 "cells": [
  {
   "cell_type": "markdown",
   "id": "a6884677",
   "metadata": {},
   "source": [
    "# Import the libraries"
   ]
  },
  {
   "cell_type": "markdown",
   "id": "0b1396c8",
   "metadata": {},
   "source": [
    "# Load the attrition dataset"
   ]
  },
  {
   "cell_type": "markdown",
   "id": "f120808d",
   "metadata": {},
   "source": [
    "# understand the columns"
   ]
  },
  {
   "cell_type": "markdown",
   "id": "02a1eb21",
   "metadata": {},
   "source": [
    "# get the information of each column and note the observation"
   ]
  },
  {
   "cell_type": "markdown",
   "id": "2b34d7eb",
   "metadata": {},
   "source": [
    "# take a look at top 10 records and understand"
   ]
  },
  {
   "cell_type": "markdown",
   "id": "6dd959cf",
   "metadata": {},
   "source": [
    "# Data cleaning\n",
    "1. check for duplicates (either records or empid(pk) ) and remove them and reset the index\n",
    "2. handle the missing values\n",
    "2. drop the column ('gender_short' )\n",
    "3. handle the invalid dtypes"
   ]
  },
  {
   "cell_type": "markdown",
   "id": "0eb64026",
   "metadata": {},
   "source": [
    "# Data Transformation\n",
    "\n",
    "rename the columns as (eid,record_date,dob,hiredate,term_date,experience,city,dname,job,store_no,gender,term_reason,term_type, \n",
    "\n",
    "status_year,status,business_unit)-------------------(optional)"
   ]
  },
  {
   "cell_type": "markdown",
   "id": "96a5e3c3",
   "metadata": {},
   "source": [
    "sort the records in ascending order of eid"
   ]
  },
  {
   "cell_type": "markdown",
   "id": "47ff1f6f",
   "metadata": {},
   "source": [
    "Apply title_case for business_unit , status"
   ]
  },
  {
   "cell_type": "markdown",
   "id": "10b68073",
   "metadata": {},
   "source": [
    "display the hiredate and term_date of the employees whose status is Active (observe the output)"
   ]
  },
  {
   "cell_type": "markdown",
   "id": "b71ba7f5",
   "metadata": {},
   "source": [
    "replace the active employees term_date by record_date ( using df.loc[] )\n",
    "(bcz , term_date < hiredate)"
   ]
  },
  {
   "cell_type": "markdown",
   "id": "2697b8c2",
   "metadata": {},
   "source": [
    "get the records of active employees and observe the changes"
   ]
  },
  {
   "cell_type": "markdown",
   "id": "b2c80e17",
   "metadata": {},
   "source": [
    "# Analysis"
   ]
  },
  {
   "cell_type": "markdown",
   "id": "774b29e2",
   "metadata": {},
   "source": [
    "1. how many employees data is present"
   ]
  },
  {
   "cell_type": "markdown",
   "id": "d7e85482",
   "metadata": {},
   "source": [
    "2. how many employees left the job"
   ]
  },
  {
   "cell_type": "markdown",
   "id": "d4dc0b65",
   "metadata": {},
   "source": [
    "3. how many employees are currently working"
   ]
  },
  {
   "cell_type": "markdown",
   "id": "bc060490",
   "metadata": {},
   "source": [
    "4. how many employees are working as CEO"
   ]
  },
  {
   "cell_type": "markdown",
   "id": "0e40e4dc",
   "metadata": {},
   "source": [
    "5. how many employees are having more than 10 years of experience"
   ]
  },
  {
   "cell_type": "markdown",
   "id": "1fe58422",
   "metadata": {},
   "source": [
    "6. get the unique record_year"
   ]
  },
  {
   "cell_type": "markdown",
   "id": "5753c001",
   "metadata": {},
   "source": [
    "7. gender wise no_of_emp"
   ]
  },
  {
   "cell_type": "markdown",
   "id": "301e26e7",
   "metadata": {},
   "source": [
    "8. gender wise no_of active employees"
   ]
  },
  {
   "cell_type": "markdown",
   "id": "0b2cbb63",
   "metadata": {},
   "source": [
    "9. job wise highest experience"
   ]
  },
  {
   "cell_type": "markdown",
   "id": "56a98a24",
   "metadata": {},
   "source": [
    "10. job wise no_of_emp"
   ]
  },
  {
   "cell_type": "markdown",
   "id": "a16804fe",
   "metadata": {},
   "source": [
    "11. job in which more employees are present"
   ]
  },
  {
   "cell_type": "markdown",
   "id": "43430d70",
   "metadata": {},
   "source": [
    "12. job in which more employees are currently working\n"
   ]
  },
  {
   "cell_type": "markdown",
   "id": "76da1bb7",
   "metadata": {},
   "source": [
    "13. job in which more employees left the job\n"
   ]
  },
  {
   "cell_type": "markdown",
   "id": "19d0afa9",
   "metadata": {},
   "source": [
    "14. gender wise highest experience"
   ]
  },
  {
   "cell_type": "markdown",
   "id": "1df2d1b1",
   "metadata": {},
   "source": [
    "15. no_of_emp in each term_type"
   ]
  },
  {
   "cell_type": "markdown",
   "id": "a2e0ccb6",
   "metadata": {},
   "source": [
    "16. no_of_emp in each term_reason"
   ]
  },
  {
   "cell_type": "markdown",
   "id": "f3694d6f",
   "metadata": {},
   "source": [
    "17. year wise no_of hiring"
   ]
  },
  {
   "cell_type": "markdown",
   "id": "01c93b0c",
   "metadata": {},
   "source": [
    "18. top two date on which more hiring happened"
   ]
  },
  {
   "cell_type": "markdown",
   "id": "e12916d9",
   "metadata": {},
   "source": [
    "19. get the year wise no_of_hirings "
   ]
  },
  {
   "cell_type": "markdown",
   "id": "b45e6451",
   "metadata": {},
   "source": [
    "20. get the year wise no_of_attrition"
   ]
  },
  {
   "cell_type": "markdown",
   "id": "242e6077",
   "metadata": {},
   "source": [
    "21. get the year wise no_of_retention"
   ]
  }
 ],
 "metadata": {
  "kernelspec": {
   "display_name": "Python 3",
   "language": "python",
   "name": "python3"
  },
  "language_info": {
   "codemirror_mode": {
    "name": "ipython",
    "version": 3
   },
   "file_extension": ".py",
   "mimetype": "text/x-python",
   "name": "python",
   "nbconvert_exporter": "python",
   "pygments_lexer": "ipython3",
   "version": "3.11.0"
  }
 },
 "nbformat": 4,
 "nbformat_minor": 5
}
